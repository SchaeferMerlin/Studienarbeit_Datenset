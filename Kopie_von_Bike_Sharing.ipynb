{
  "nbformat": 4,
  "nbformat_minor": 0,
  "metadata": {
    "colab": {
      "name": "Kopie von Bike Sharing.ipynb",
      "provenance": [],
      "collapsed_sections": [],
      "toc_visible": true,
      "include_colab_link": true
    },
    "kernelspec": {
      "name": "python3",
      "display_name": "Python 3"
    }
  },
  "cells": [
    {
      "cell_type": "markdown",
      "metadata": {
        "id": "view-in-github",
        "colab_type": "text"
      },
      "source": [
        "<a href=\"https://colab.research.google.com/github/SchaeferMerlin/Studienarbeit_Datenset/blob/main/Kopie_von_Bike_Sharing.ipynb\" target=\"_parent\"><img src=\"https://colab.research.google.com/assets/colab-badge.svg\" alt=\"Open In Colab\"/></a>"
      ]
    },
    {
      "cell_type": "markdown",
      "metadata": {
        "id": "CzX78KPWxlKI"
      },
      "source": [
        "# **Studienarbeit Künstliche Intelligenz und Maschinelles Lernen im WiSe 20/21**\r\n",
        "\r\n",
        "---\r\n",
        "\r\n",
        "\r\n",
        "\r\n",
        "**Bike Sharing Demand**\r\n",
        "\r\n",
        "von: Antonia Huber, Lukas Schwarz, Alexander Frießleben und Merlin Schäfer\r\n",
        "\r\n",
        "\r\n",
        "\r\n",
        "\r\n",
        "\r\n",
        "\r\n",
        "\r\n",
        "\r\n",
        "\r\n",
        "\r\n",
        "\r\n",
        "\r\n",
        "\r\n"
      ]
    },
    {
      "cell_type": "markdown",
      "metadata": {
        "id": "psIrTbSMVgHt"
      },
      "source": [
        "#  **1. Einleitung und Aufgabenstellung**\r\n",
        "\r\n",
        "\r\n",
        "\r\n",
        "---\r\n",
        "\r\n",
        "\r\n",
        "\r\n",
        "> In der nachfolgenden Studienarbeit befassen wir uns mit dem Thema \"Bike Sharing Demand\". Zu untersuchen ist ein System zur Erfassung von Leihfahrrädern. Dazu werden durch mehrere Stationen Daten gesammelt und zum Trainieren des Systemes genutzt. Mithilfe der Sensoren können folgende Daten herangezogen werden: \r\n",
        "\r\n",
        "*   Datum der Ausleihe\r\n",
        "*   Art des Tages\r\n",
        "*   Uhrzeit\r\n",
        "*   Wetter am Miettag\r\n",
        "*   Temperatur\r\n",
        "*   gefühlte Temperatur\r\n",
        "*   Windstärke\r\n"
      ]
    },
    {
      "cell_type": "markdown",
      "metadata": {
        "id": "H2lRjxo6yaun"
      },
      "source": [
        "# **2. Einlesen der Module**\r\n",
        "\r\n",
        "> Damit unser Modell die verschiedenen Beziehungen und Berechnungen durchführen kann, benötigt es verschiedenste Module\r\n",
        "\r\n"
      ]
    },
    {
      "cell_type": "code",
      "metadata": {
        "id": "ooVazF5FxmwZ"
      },
      "source": [
        "import calendar\r\n",
        "import seaborn as sb\r\n",
        "import xgboost as xgb\r\n",
        "import plotly.express as px\r\n",
        "import pandas_profiling as pp\r\n",
        "import matplotlib.pyplot as plt\r\n",
        "from plotly.subplots import make_subplots\r\n",
        "from sklearn.tree import DecisionTreeRegressor\r\n",
        "from sklearn.ensemble import RandomForestRegressor\r\n",
        "from sklearn.preprocessing import PolynomialFeatures\r\n",
        "from sklearn.linear_model import LinearRegression, Ridge\r\n",
        "from sklearn.metrics import mean_squared_log_error,make_scorer\r\n",
        "from sklearn.model_selection import train_test_split,GridSearchCV"
      ],
      "execution_count": null,
      "outputs": []
    },
    {
      "cell_type": "markdown",
      "metadata": {
        "id": "THUuGsMGVghu"
      },
      "source": [
        "# **3. Datenimport**"
      ]
    },
    {
      "cell_type": "markdown",
      "metadata": {
        "id": "Vhegm5_zVg0M"
      },
      "source": [
        "# **4. Auswertung der Daten**"
      ]
    },
    {
      "cell_type": "markdown",
      "metadata": {
        "id": "qSp5SwjSVhCn"
      },
      "source": [
        "# **5.**"
      ]
    },
    {
      "cell_type": "markdown",
      "metadata": {
        "id": "eKuQjiuOVhTq"
      },
      "source": [
        "# **6. Modelle (Feature Engineering)**"
      ]
    },
    {
      "cell_type": "markdown",
      "metadata": {
        "id": "OUEtf3xUWk_I"
      },
      "source": [
        "# **7. Modellanwendung**"
      ]
    },
    {
      "cell_type": "markdown",
      "metadata": {
        "id": "BoCibR6zWlUN"
      },
      "source": [
        "# **8. Modellbewertung**"
      ]
    },
    {
      "cell_type": "markdown",
      "metadata": {
        "id": "LJfYTgiFWw1J"
      },
      "source": [
        "# **9. Optimierungsmöglichkeiten**"
      ]
    },
    {
      "cell_type": "markdown",
      "metadata": {
        "id": "xfmYsIgjWxKw"
      },
      "source": [
        "# **10. Fazit**"
      ]
    }
  ]
}